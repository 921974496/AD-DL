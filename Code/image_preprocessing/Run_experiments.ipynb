{
 "cells": [
  {
   "cell_type": "markdown",
   "metadata": {},
   "source": [
    "# Preprocessing DL\n",
    "## Replicating Hao's experiments"
   ]
  },
  {
   "cell_type": "markdown",
   "metadata": {},
   "source": [
    "### 0. Before Starting.\n",
    "\n",
    "One need to create a Conda environment with python 2.7 and install the corresponding version of Clinica inside:"
   ]
  },
  {
   "cell_type": "markdown",
   "metadata": {},
   "source": [
    "```bash\n",
    "conda create --name clinica_dl_pre_py27 python=2.7\n",
    "conda activate clinica_dl_pre_py27\n",
    "conda install -c aramislab -c conda-forge clinica=0.1.3\n",
    "pip install -r requirements.txt\n",
    "conda install pytorch-cpu torchvision-cpu -c pytorch\n",
    "# conda install pytorch torchvision -c pytorch //for macOS\n",
    "conda install jupyter\n",
    "```"
   ]
  },
  {
   "cell_type": "markdown",
   "metadata": {},
   "source": [
    "### 1. Preprocessing, first part.\n",
    "\n",
    "Running the first part of preprocessing (inspired from `run_preprocessing.py`).\n",
    "\n",
    "Defining data folders:"
   ]
  },
  {
   "cell_type": "code",
   "execution_count": null,
   "metadata": {},
   "outputs": [],
   "source": [
    "bids_directory = '/Users/mauricio.diazmelo/tmp/DL/ADNI_BIDS_T1_new'\n",
    "caps_directory= '/Users/mauricio.diazmelo/tmp/DL/ADNI_CAPS'\n",
    "tsv = '/Users/mauricio.diazmelo/tmp/DL/image_preprocessing_test.tsv'\n",
    "working_dir = '/Users/mauricio.diazmelo/tmp/DL/working_dir'\n",
    "ref_template = '/Users/mauricio.diazmelo/tmp/DL/mni_icbm152_nlin_sym_09c_nifti/mni_icbm152_nlin_sym_09c/mni_icbm152_t1_tal_nlin_sym_09c.nii'"
   ]
  },
  {
   "cell_type": "markdown",
   "metadata": {},
   "source": [
    "Import module for `T1_preprocessing`:"
   ]
  },
  {
   "cell_type": "code",
   "execution_count": null,
   "metadata": {},
   "outputs": [],
   "source": [
    "from T1_preprocessing import preprocessing_t1w\n",
    "\n",
    "wf = preprocessing_t1w(bids_directory, caps_directory, tsv, ref_template, working_directory=working_dir)\n",
    "#wf.write_graph(\"workflow_graph.dot\")\n",
    "#wf.write_graph(graph2use='flat')\n",
    "wf.run(plugin='MultiProc', plugin_args={'n_procs': 4})"
   ]
  },
  {
   "cell_type": "markdown",
   "metadata": {},
   "source": [
    "### 2. Preprocessing, second part"
   ]
  },
  {
   "cell_type": "markdown",
   "metadata": {},
   "source": [
    "Run the second part of preprocessing (inspired from `run_postprocessing_adni.py`)."
   ]
  },
  {
   "cell_type": "code",
   "execution_count": null,
   "metadata": {},
   "outputs": [],
   "source": [
    "from T1_postprocessing import postprocessing_t1w\n",
    "\n",
    "patch_size = 50\n",
    "stride_size = 50\n",
    "\n",
    "# for rgb tf learning\n",
    "wf2 = postprocessing_t1w(caps_directory, tsv, patch_size, stride_size, working_directory=working_dir, extract_method='slice', slice_mode='rgb')\n",
    "wf2.run(plugin='MultiProc', plugin_args={'n_procs': 4})"
   ]
  },
  {
   "cell_type": "code",
   "execution_count": null,
   "metadata": {},
   "outputs": [],
   "source": [
    "## for patch\n",
    "wf3 = postprocessing_t1w(caps_directory, tsv, patch_size, stride_size, working_directory=working_dir, extract_method='patch')\n",
    "#wf3.write_graph(\"workflow_graph.dot\")\n",
    "#wf3.write_graph(graph2use='flat')\n",
    "wf3.run(plugin='MultiProc', plugin_args={'n_procs': 4})"
   ]
  },
  {
   "cell_type": "code",
   "execution_count": null,
   "metadata": {},
   "outputs": [],
   "source": []
  }
 ],
 "metadata": {
  "kernelspec": {
   "display_name": "Python 2",
   "language": "python",
   "name": "python2"
  },
  "language_info": {
   "codemirror_mode": {
    "name": "ipython",
    "version": 2
   },
   "file_extension": ".py",
   "mimetype": "text/x-python",
   "name": "python",
   "nbconvert_exporter": "python",
   "pygments_lexer": "ipython2",
   "version": "2.7.16"
  }
 },
 "nbformat": 4,
 "nbformat_minor": 2
}
