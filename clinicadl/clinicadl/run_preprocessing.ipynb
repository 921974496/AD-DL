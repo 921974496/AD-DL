{
 "cells": [
  {
   "cell_type": "markdown",
   "metadata": {},
   "source": [
    "# Preprocessing DL\n",
    "## Replicating Hao's experiments"
   ]
  },
  {
   "cell_type": "markdown",
   "metadata": {},
   "source": [
    "### 0. Before Starting.\n",
    "\n",
    "One need to create a Conda environment with python 2.7 and install the corresponding version of Clinica inside:"
   ]
  },
  {
   "cell_type": "markdown",
   "metadata": {},
   "source": [
    "```bash\n",
    "conda create --name clinica_dl_pre_py27 python=2.7\n",
    "conda activate clinica_dl_pre_py27\n",
    "conda install -c aramislab -c conda-forge clinica=0.1.3\n",
    "pip install -r requirements.txt\n",
    "conda install pytorch-cpu torchvision-cpu -c pytorch\n",
    "# conda install pytorch torchvision -c pytorch //for macOS\n",
    "conda install jupyter\n",
    "```"
   ]
  },
  {
   "cell_type": "markdown",
   "metadata": {},
   "source": [
    "Version __Update to python 3.6:__"
   ]
  },
  {
   "cell_type": "markdown",
   "metadata": {},
   "source": [
    "```bash\n",
    "conda create --name clinica_dl_pre_py36 python=3.6\n",
    "conda activate clinica_dl_pre_py36\n",
    "conda install -c aramislab -c conda-forge clinica\n",
    "conda install -c conda-forge nilearn\n",
    "conda install pytorch-cpu torchvision-cpu -c pytorch\n",
    "# conda install pytorch torchvision -c pytorch //for macOS\n",
    "```"
   ]
  },
  {
   "cell_type": "markdown",
   "metadata": {},
   "source": [
    "### 1. Preprocessing, first part.\n",
    "\n",
    "Running the first part of preprocessing (inspired from `run_preprocessing.py`).\n",
    "\n",
    "Defining data folders:"
   ]
  },
  {
   "cell_type": "code",
   "execution_count": 1,
   "metadata": {},
   "outputs": [],
   "source": [
    "bids_directory = '/Users/mdiazmel/tmp/DL/ADNI_BIDS_T1_new_test'\n",
    "caps_directory= '/Users/mdiazmel/tmp/DL/ADNI_CAPS'\n",
    "tsv = '/Users/mdiazmel/tmp/DL/image_preprocessing_test.tsv'\n",
    "working_dir = '/Users/mdiazmel/tmp/DL/working_dir'\n",
    "ref_template = '/Users/mdiazmel/tmp/DL/mni_icbm152_nlin_sym_09c_nifti/mni_icbm152_nlin_sym_09c/mni_icbm152_t1_tal_nlin_sym_09c.nii'"
   ]
  },
  {
   "cell_type": "markdown",
   "metadata": {},
   "source": [
    "Import module for `T1_preprocessing`:"
   ]
  },
  {
   "cell_type": "code",
   "execution_count": null,
   "metadata": {},
   "outputs": [
    {
     "name": "stdout",
     "output_type": "stream",
     "text": [
      "190827-17:32:39,14 workflow INFO:\n",
      "\t ['check', 'execution', 'logging']\n",
      "190827-17:32:39,132 workflow INFO:\n",
      "\t Running in parallel.\n",
      "190827-17:32:39,147 workflow INFO:\n",
      "\t Executing: get_subject_session_list ID: 0\n",
      "190827-17:32:39,159 workflow INFO:\n",
      "\t Executing node get_subject_session_list in dir: /Users/mdiazmel/tmp/DL/working_dir/t1w_preprocessing_dl/get_subject_session_list\n"
     ]
    }
   ],
   "source": [
    "from preprocessing.T1_preprocessing import preprocessing_t1w\n",
    "\n",
    "wf = preprocessing_t1w(bids_directory, caps_directory, tsv, ref_template, working_directory=working_dir)\n",
    "#wf.write_graph(\"workflow_graph.dot\")\n",
    "#wf.write_graph(graph2use='flat')\n",
    "wf.run(plugin='MultiProc', plugin_args={'n_procs': 4})"
   ]
  },
  {
   "cell_type": "markdown",
   "metadata": {},
   "source": [
    "### 2. Preprocessing, second part"
   ]
  },
  {
   "cell_type": "markdown",
   "metadata": {},
   "source": [
    "Run the second part of preprocessing (inspired from `run_postprocessing_adni.py`)."
   ]
  },
  {
   "cell_type": "code",
   "execution_count": 3,
   "metadata": {},
   "outputs": [
    {
     "name": "stdout",
     "output_type": "stream",
     "text": [
      "190509-11:49:38,706 nipype.workflow INFO:\n",
      "\t Workflow t1w_postprocessing_dl settings: ['check', 'execution', 'logging', 'monitoring']\n",
      "190509-11:49:38,727 nipype.workflow INFO:\n",
      "\t Running in parallel.\n",
      "190509-11:49:38,733 nipype.workflow INFO:\n",
      "\t [MultiProc] Running 0 tasks, and 1 jobs ready. Free memory (GB): 14.40/14.40, Free processors: 4/4.\n",
      "190509-11:49:38,819 nipype.workflow INFO:\n",
      "\t [Node] Setting-up \"t1w_postprocessing_dl.get_subject_session_list\" in \"/Users/mauricio.diazmelo/tmp/DL/working_dir2/t1w_postprocessing_dl/get_subject_session_list\".\n",
      "190509-11:49:38,844 nipype.workflow INFO:\n",
      "\t [Node] Running \"get_subject_session_list\" (\"nipype.interfaces.utility.wrappers.Function\")\n",
      "190509-11:49:39,799 nipype.workflow INFO:\n",
      "\t [Node] Finished \"t1w_postprocessing_dl.get_subject_session_list\".\n",
      "190509-11:49:40,740 nipype.workflow INFO:\n",
      "\t [Job 0] Completed (t1w_postprocessing_dl.get_subject_session_list).\n",
      "190509-11:49:40,748 nipype.workflow INFO:\n",
      "\t [MultiProc] Running 0 tasks, and 1 jobs ready. Free memory (GB): 14.40/14.40, Free processors: 4/4.\n",
      "190509-11:49:42,742 nipype.workflow INFO:\n",
      "\t [MultiProc] Running 0 tasks, and 2 jobs ready. Free memory (GB): 14.40/14.40, Free processors: 4/4.\n",
      "190509-11:49:42,790 nipype.workflow INFO:\n",
      "\t [Node] Setting-up \"_save_as_pt1\" in \"/Users/mauricio.diazmelo/tmp/DL/working_dir2/t1w_postprocessing_dl/save_as_pt/mapflow/_save_as_pt1\".190509-11:49:42,788 nipype.workflow INFO:\n",
      "\t [Node] Setting-up \"_save_as_pt0\" in \"/Users/mauricio.diazmelo/tmp/DL/working_dir2/t1w_postprocessing_dl/save_as_pt/mapflow/_save_as_pt0\".\n",
      "\n",
      "190509-11:49:42,812 nipype.workflow INFO:\n",
      "\t [Node] Running \"_save_as_pt1\" (\"nipype.interfaces.utility.wrappers.Function\")190509-11:49:42,827 nipype.workflow INFO:\n",
      "\t [Node] Running \"_save_as_pt0\" (\"nipype.interfaces.utility.wrappers.Function\")\n",
      "\n",
      "190509-11:49:44,744 nipype.workflow INFO:\n",
      "\t [MultiProc] Running 2 tasks, and 0 jobs ready. Free memory (GB): 14.00/14.40, Free processors: 2/4.\n",
      "                     Currently running:\n",
      "                       * _save_as_pt1\n",
      "                       * _save_as_pt0\n",
      "190509-11:49:45,794 nipype.workflow INFO:\n",
      "\t [Node] Finished \"_save_as_pt1\".\n",
      "190509-11:49:46,747 nipype.workflow INFO:\n",
      "\t [Job 4] Completed (_save_as_pt1).\n",
      "190509-11:49:46,752 nipype.workflow INFO:\n",
      "\t [MultiProc] Running 1 tasks, and 0 jobs ready. Free memory (GB): 14.20/14.40, Free processors: 3/4.\n",
      "                     Currently running:\n",
      "                       * _save_as_pt0\n",
      "190509-11:49:48,721 nipype.workflow INFO:\n",
      "\t [Node] Finished \"_save_as_pt0\".\n",
      "190509-11:49:50,755 nipype.workflow INFO:\n",
      "\t [Job 3] Completed (_save_as_pt0).\n",
      "190509-11:49:50,764 nipype.workflow INFO:\n",
      "\t [MultiProc] Running 0 tasks, and 1 jobs ready. Free memory (GB): 14.40/14.40, Free processors: 4/4.\n",
      "190509-11:49:50,864 nipype.workflow INFO:\n",
      "\t [Node] Setting-up \"t1w_postprocessing_dl.save_as_pt\" in \"/Users/mauricio.diazmelo/tmp/DL/working_dir2/t1w_postprocessing_dl/save_as_pt\".\n",
      "190509-11:49:50,895 nipype.workflow INFO:\n",
      "\t [Node] Setting-up \"_save_as_pt0\" in \"/Users/mauricio.diazmelo/tmp/DL/working_dir2/t1w_postprocessing_dl/save_as_pt/mapflow/_save_as_pt0\".\n",
      "190509-11:49:50,922 nipype.workflow INFO:\n",
      "\t [Node] Cached \"_save_as_pt0\" - collecting precomputed outputs\n",
      "190509-11:49:50,966 nipype.workflow INFO:\n",
      "\t [Node] \"_save_as_pt0\" found cached.\n",
      "190509-11:49:51,0 nipype.workflow INFO:\n",
      "\t [Node] Setting-up \"_save_as_pt1\" in \"/Users/mauricio.diazmelo/tmp/DL/working_dir2/t1w_postprocessing_dl/save_as_pt/mapflow/_save_as_pt1\".\n",
      "190509-11:49:51,40 nipype.workflow INFO:\n",
      "\t [Node] Cached \"_save_as_pt1\" - collecting precomputed outputs\n",
      "190509-11:49:51,63 nipype.workflow INFO:\n",
      "\t [Node] \"_save_as_pt1\" found cached.\n",
      "190509-11:49:51,111 nipype.workflow INFO:\n",
      "\t [Node] Finished \"t1w_postprocessing_dl.save_as_pt\".\n",
      "190509-11:49:52,757 nipype.workflow INFO:\n",
      "\t [Job 1] Completed (t1w_postprocessing_dl.save_as_pt).\n",
      "190509-11:49:52,762 nipype.workflow INFO:\n",
      "\t [MultiProc] Running 0 tasks, and 1 jobs ready. Free memory (GB): 14.40/14.40, Free processors: 4/4.\n",
      "190509-11:49:54,761 nipype.workflow INFO:\n",
      "\t [MultiProc] Running 0 tasks, and 2 jobs ready. Free memory (GB): 14.40/14.40, Free processors: 4/4.\n",
      "190509-11:49:54,803 nipype.workflow INFO:\n",
      "\t [Node] Setting-up \"_extract_slices0\" in \"/Users/mauricio.diazmelo/tmp/DL/working_dir2/t1w_postprocessing_dl/extract_slices/mapflow/_extract_slices0\".190509-11:49:54,803 nipype.workflow INFO:\n",
      "\t [Node] Setting-up \"_extract_slices1\" in \"/Users/mauricio.diazmelo/tmp/DL/working_dir2/t1w_postprocessing_dl/extract_slices/mapflow/_extract_slices1\".\n",
      "190509-11:49:54,813 nipype.workflow INFO:\n",
      "\t [Node] Running \"_extract_slices1\" (\"nipype.interfaces.utility.wrappers.Function\")\n",
      "\n",
      "190509-11:49:54,824 nipype.workflow INFO:\n",
      "\t [Node] Running \"_extract_slices0\" (\"nipype.interfaces.utility.wrappers.Function\")\n",
      "190509-11:49:55,544 nipype.workflow INFO:\n",
      "\t [Node] Finished \"_extract_slices1\".\n",
      "190509-11:49:56,317 nipype.workflow INFO:\n",
      "\t [Node] Finished \"_extract_slices0\".\n",
      "190509-11:49:56,762 nipype.workflow INFO:\n",
      "\t [Job 5] Completed (_extract_slices0).\n",
      "190509-11:49:56,765 nipype.workflow INFO:\n",
      "\t [Job 6] Completed (_extract_slices1).\n",
      "190509-11:49:56,769 nipype.workflow INFO:\n",
      "\t [MultiProc] Running 0 tasks, and 1 jobs ready. Free memory (GB): 14.40/14.40, Free processors: 4/4.\n",
      "190509-11:49:56,818 nipype.workflow INFO:\n",
      "\t [Node] Setting-up \"t1w_postprocessing_dl.extract_slices\" in \"/Users/mauricio.diazmelo/tmp/DL/working_dir2/t1w_postprocessing_dl/extract_slices\".\n",
      "190509-11:49:56,861 nipype.workflow INFO:\n",
      "\t [Node] Setting-up \"_extract_slices0\" in \"/Users/mauricio.diazmelo/tmp/DL/working_dir2/t1w_postprocessing_dl/extract_slices/mapflow/_extract_slices0\".\n",
      "190509-11:49:56,885 nipype.workflow INFO:\n",
      "\t [Node] Cached \"_extract_slices0\" - collecting precomputed outputs\n",
      "190509-11:49:56,910 nipype.workflow INFO:\n",
      "\t [Node] \"_extract_slices0\" found cached.\n",
      "190509-11:49:56,958 nipype.workflow INFO:\n",
      "\t [Node] Setting-up \"_extract_slices1\" in \"/Users/mauricio.diazmelo/tmp/DL/working_dir2/t1w_postprocessing_dl/extract_slices/mapflow/_extract_slices1\".\n",
      "190509-11:49:57,6 nipype.workflow INFO:\n",
      "\t [Node] Cached \"_extract_slices1\" - collecting precomputed outputs\n",
      "190509-11:49:57,57 nipype.workflow INFO:\n",
      "\t [Node] \"_extract_slices1\" found cached.\n",
      "190509-11:49:57,84 nipype.workflow INFO:\n",
      "\t [Node] Finished \"t1w_postprocessing_dl.extract_slices\".\n",
      "190509-11:49:58,765 nipype.workflow INFO:\n",
      "\t [Job 2] Completed (t1w_postprocessing_dl.extract_slices).\n",
      "190509-11:49:58,768 nipype.workflow INFO:\n",
      "\t [MultiProc] Running 0 tasks, and 0 jobs ready. Free memory (GB): 14.40/14.40, Free processors: 4/4.\n"
     ]
    },
    {
     "data": {
      "text/plain": [
       "<networkx.classes.digraph.DiGraph at 0xa0ee060f0>"
      ]
     },
     "execution_count": 3,
     "metadata": {},
     "output_type": "execute_result"
    }
   ],
   "source": [
    "from T1_postprocessing import postprocessing_t1w\n",
    "\n",
    "patch_size = 50\n",
    "stride_size = 50\n",
    "\n",
    "# for rgb tf learning\n",
    "wf2 = postprocessing_t1w(caps_directory, tsv, patch_size, stride_size, working_directory=working_dir, extract_method='slice', slice_mode='rgb')\n",
    "wf2.run(plugin='MultiProc', plugin_args={'n_procs': 4})"
   ]
  },
  {
   "cell_type": "code",
   "execution_count": 5,
   "metadata": {},
   "outputs": [
    {
     "name": "stdout",
     "output_type": "stream",
     "text": [
      "190509-15:10:15,217 nipype.workflow INFO:\n",
      "\t Workflow t1w_postprocessing_dl settings: ['check', 'execution', 'logging', 'monitoring']\n",
      "190509-15:10:15,233 nipype.workflow INFO:\n",
      "\t Running in parallel.\n",
      "190509-15:10:15,238 nipype.workflow INFO:\n",
      "\t [MultiProc] Running 0 tasks, and 1 jobs ready. Free memory (GB): 14.40/14.40, Free processors: 4/4.\n",
      "190509-15:10:15,331 nipype.workflow INFO:\n",
      "\t [Job 0] Cached (t1w_postprocessing_dl.get_subject_session_list).\n",
      "190509-15:10:19,246 nipype.workflow INFO:\n",
      "\t [MultiProc] Running 0 tasks, and 2 jobs ready. Free memory (GB): 14.40/14.40, Free processors: 4/4.\n",
      "190509-15:10:19,301 nipype.workflow INFO:\n",
      "\t [Job 3] Cached (_save_as_pt0).\n",
      "190509-15:10:19,305 nipype.workflow INFO:\n",
      "\t [Job 4] Cached (_save_as_pt1).\n",
      "190509-15:10:21,248 nipype.workflow INFO:\n",
      "\t [MultiProc] Running 0 tasks, and 1 jobs ready. Free memory (GB): 14.40/14.40, Free processors: 4/4.\n",
      "190509-15:10:21,281 nipype.workflow INFO:\n",
      "\t [Job 1] Cached (t1w_postprocessing_dl.save_as_pt).\n",
      "190509-15:10:25,251 nipype.workflow INFO:\n",
      "\t [MultiProc] Running 0 tasks, and 2 jobs ready. Free memory (GB): 14.40/14.40, Free processors: 4/4.\n",
      "190509-15:10:25,312 nipype.workflow INFO:\n",
      "\t [Node] Setting-up \"_extract_patches0\" in \"/Users/mauricio.diazmelo/tmp/DL/working_dir2/t1w_postprocessing_dl/extract_patches/mapflow/_extract_patches0\".190509-15:10:25,317 nipype.workflow INFO:\n",
      "\t [Node] Setting-up \"_extract_patches1\" in \"/Users/mauricio.diazmelo/tmp/DL/working_dir2/t1w_postprocessing_dl/extract_patches/mapflow/_extract_patches1\".\n",
      "\n",
      "190509-15:10:25,342 nipype.workflow INFO:\n",
      "\t [Node] Running \"_extract_patches0\" (\"nipype.interfaces.utility.wrappers.Function\")\n",
      "190509-15:10:25,355 nipype.workflow INFO:\n",
      "\t [Node] Running \"_extract_patches1\" (\"nipype.interfaces.utility.wrappers.Function\")\n",
      "190509-15:10:26,384 nipype.workflow INFO:\n",
      "\t [Node] Finished \"_extract_patches1\".190509-15:10:26,404 nipype.workflow INFO:\n",
      "\t [Node] Finished \"_extract_patches0\".\n",
      "\n",
      "190509-15:10:27,252 nipype.workflow INFO:\n",
      "\t [Job 5] Completed (_extract_patches0).\n",
      "190509-15:10:27,255 nipype.workflow INFO:\n",
      "\t [Job 6] Completed (_extract_patches1).\n",
      "190509-15:10:27,258 nipype.workflow INFO:\n",
      "\t [MultiProc] Running 0 tasks, and 1 jobs ready. Free memory (GB): 14.40/14.40, Free processors: 4/4.\n",
      "190509-15:10:27,360 nipype.workflow INFO:\n",
      "\t [Node] Setting-up \"t1w_postprocessing_dl.extract_patches\" in \"/Users/mauricio.diazmelo/tmp/DL/working_dir2/t1w_postprocessing_dl/extract_patches\".\n",
      "190509-15:10:27,402 nipype.workflow INFO:\n",
      "\t [Node] Setting-up \"_extract_patches0\" in \"/Users/mauricio.diazmelo/tmp/DL/working_dir2/t1w_postprocessing_dl/extract_patches/mapflow/_extract_patches0\".\n",
      "190509-15:10:27,435 nipype.workflow INFO:\n",
      "\t [Node] Cached \"_extract_patches0\" - collecting precomputed outputs\n",
      "190509-15:10:27,489 nipype.workflow INFO:\n",
      "\t [Node] \"_extract_patches0\" found cached.\n",
      "190509-15:10:27,542 nipype.workflow INFO:\n",
      "\t [Node] Setting-up \"_extract_patches1\" in \"/Users/mauricio.diazmelo/tmp/DL/working_dir2/t1w_postprocessing_dl/extract_patches/mapflow/_extract_patches1\".\n",
      "190509-15:10:27,572 nipype.workflow INFO:\n",
      "\t [Node] Cached \"_extract_patches1\" - collecting precomputed outputs\n",
      "190509-15:10:27,601 nipype.workflow INFO:\n",
      "\t [Node] \"_extract_patches1\" found cached.\n",
      "190509-15:10:27,641 nipype.workflow INFO:\n",
      "\t [Node] Finished \"t1w_postprocessing_dl.extract_patches\".\n",
      "190509-15:10:29,254 nipype.workflow INFO:\n",
      "\t [Job 2] Completed (t1w_postprocessing_dl.extract_patches).\n",
      "190509-15:10:29,259 nipype.workflow INFO:\n",
      "\t [MultiProc] Running 0 tasks, and 0 jobs ready. Free memory (GB): 14.40/14.40, Free processors: 4/4.\n"
     ]
    },
    {
     "data": {
      "text/plain": [
       "<networkx.classes.digraph.DiGraph at 0xa0f1d3908>"
      ]
     },
     "execution_count": 5,
     "metadata": {},
     "output_type": "execute_result"
    }
   ],
   "source": [
    "## for patch\n",
    "wf3 = postprocessing_t1w(caps_directory, tsv, patch_size, stride_size, working_directory=working_dir, extract_method='patch')\n",
    "#wf3.write_graph(\"workflow_graph.dot\")\n",
    "#wf3.write_graph(graph2use='flat')\n",
    "wf3.run(plugin='MultiProc', plugin_args={'n_procs': 4})"
   ]
  },
  {
   "cell_type": "code",
   "execution_count": null,
   "metadata": {},
   "outputs": [],
   "source": []
  }
 ],
 "metadata": {
  "kernelspec": {
   "display_name": "Python 2",
   "language": "python",
   "name": "python2"
  },
  "language_info": {
   "codemirror_mode": {
    "name": "ipython",
    "version": 2
   },
   "file_extension": ".py",
   "mimetype": "text/x-python",
   "name": "python",
   "nbconvert_exporter": "python",
   "pygments_lexer": "ipython2",
   "version": "2.7.15"
  }
 },
 "nbformat": 4,
 "nbformat_minor": 2
}
