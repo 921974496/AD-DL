{
 "cells": [
  {
   "cell_type": "markdown",
   "metadata": {},
   "source": [
    "# Preprocessing DL\n",
    "## Replicating Hao's experiments"
   ]
  },
  {
   "cell_type": "markdown",
   "metadata": {},
   "source": [
    "### 0. Before Starting.\n",
    "\n",
    "One need to create a Conda environment with python 2.7 and install the corresponding version of Clinica inside:"
   ]
  },
  {
   "cell_type": "markdown",
   "metadata": {},
   "source": [
    "```bash\n",
    "conda create --name clinica_dl_pre_py27 python=2.7\n",
    "conda activate clinica_dl_pre_py27\n",
    "conda install -c aramislab -c conda-forge clinica=0.1.3\n",
    "pip install -r requirements.txt\n",
    "conda install pytorch-cpu torchvision-cpu -c pytorch\n",
    "# conda install pytorch torchvision -c pytorch //for macOS\n",
    "conda install jupyter\n",
    "```"
   ]
  },
  {
   "cell_type": "markdown",
   "metadata": {},
   "source": [
    "Version __Update to python 3.6:__"
   ]
  },
  {
   "cell_type": "markdown",
   "metadata": {},
   "source": [
    "```bash\n",
    "conda create --name clinica_dl_pre_py36 python=3.6\n",
    "conda activate clinica_dl_pre_py36\n",
    "conda install -c aramislab -c conda-forge clinica\n",
    "conda install -c conda-forge nilearn\n",
    "conda install pytorch-cpu torchvision-cpu -c pytorch\n",
    "# conda install pytorch torchvision -c pytorch //for macOS\n",
    "```"
   ]
  },
  {
   "cell_type": "markdown",
   "metadata": {},
   "source": [
    "### 1. Preprocessing, first part.\n",
    "\n",
    "Running the first part of preprocessing (inspired from `run_preprocessing.py`).\n",
    "\n",
    "Defining data folders:"
   ]
  },
  {
   "cell_type": "code",
   "execution_count": 1,
   "metadata": {},
   "outputs": [],
   "source": [
    "bids_directory = '/Users/mdiazmel/tmp/DL/ADNI_BIDS_T1_new_test'\n",
    "caps_directory= '/Users/mdiazmel/tmp/DL/ADNI_CAPS'\n",
    "tsv = '/Users/mdiazmel/tmp/DL/image_preprocessing_test.tsv'\n",
    "working_dir = '/Users/mdiazmel/tmp/DL/working_dir'\n",
    "ref_template = '/Users/mdiazmel/tmp/DL/mni_icbm152_nlin_sym_09c_nifti/mni_icbm152_nlin_sym_09c/mni_icbm152_t1_tal_nlin_sym_09c.nii'"
   ]
  },
  {
   "cell_type": "markdown",
   "metadata": {},
   "source": [
    "Import module for `T1_preprocessing`:"
   ]
  },
  {
   "cell_type": "code",
   "execution_count": 4,
   "metadata": {},
   "outputs": [
    {
     "name": "stdout",
     "output_type": "stream",
     "text": [
      "190827-18:44:48,150 workflow INFO:\n",
      "\t ['check', 'execution', 'logging']\n",
      "190827-18:44:48,189 workflow INFO:\n",
      "\t Running in parallel.\n",
      "190827-18:44:48,203 workflow INFO:\n",
      "\t Executing: get_subject_session_list ID: 0\n",
      "190827-18:44:48,209 workflow INFO:\n",
      "\t [Job finished] jobname: get_subject_session_list jobid: 0\n",
      "190827-18:44:48,219 workflow INFO:\n",
      "\t Executing: get_subid_sesid_datasink ID: 1\n",
      "190827-18:44:48,257 workflow INFO:\n",
      "\t Adding 2 jobs for mapnode get_subid_sesid_datasink\n",
      "190827-18:44:48,266 workflow INFO:\n",
      "\t Executing: datagrabbernode ID: 2\n",
      "190827-18:44:48,291 workflow INFO:\n",
      "\t [Job finished] jobname: datagrabbernode jobid: 2\n",
      "190827-18:44:48,296 workflow INFO:\n",
      "\t Executing: rename_file ID: 3\n",
      "190827-18:44:48,329 workflow INFO:\n",
      "\t Adding 2 jobs for mapnode rename_file\n",
      "190827-18:44:48,346 workflow INFO:\n",
      "\t Executing: _get_subid_sesid_datasink0 ID: 9\n",
      "190827-18:44:48,350 workflow INFO:\n",
      "\t [Job finished] jobname: _get_subid_sesid_datasink0 jobid: 9\n",
      "190827-18:44:48,354 workflow INFO:\n",
      "\t Executing: _get_subid_sesid_datasink1 ID: 10\n",
      "190827-18:44:48,358 workflow INFO:\n",
      "\t [Job finished] jobname: _get_subid_sesid_datasink1 jobid: 10\n",
      "190827-18:44:48,374 workflow INFO:\n",
      "\t Executing: get_subid_sesid_datasink ID: 1\n",
      "190827-18:44:48,379 workflow INFO:\n",
      "\t [Job finished] jobname: get_subid_sesid_datasink jobid: 1\n",
      "190827-18:44:48,389 workflow INFO:\n",
      "\t Executing: _rename_file0 ID: 11\n",
      "190827-18:44:48,393 workflow INFO:\n",
      "\t [Job finished] jobname: _rename_file0 jobid: 11\n",
      "190827-18:44:48,404 workflow INFO:\n",
      "\t Executing: _rename_file1 ID: 12\n",
      "190827-18:44:48,407 workflow INFO:\n",
      "\t [Job finished] jobname: _rename_file1 jobid: 12\n",
      "190827-18:44:48,413 workflow INFO:\n",
      "\t Executing: rename_file ID: 3\n",
      "190827-18:44:48,419 workflow INFO:\n",
      "\t [Job finished] jobname: rename_file jobid: 3\n",
      "190827-18:44:48,427 workflow INFO:\n",
      "\t Executing: n4biascorrection ID: 4\n",
      "190827-18:44:48,479 workflow INFO:\n",
      "\t Adding 2 jobs for mapnode n4biascorrection\n",
      "190827-18:44:48,495 workflow INFO:\n",
      "\t Executing: _n4biascorrection0 ID: 13\n",
      "190827-18:44:48,504 workflow INFO:\n",
      "\t [Job finished] jobname: _n4biascorrection0 jobid: 13\n",
      "190827-18:44:48,508 workflow INFO:\n",
      "\t Executing: _n4biascorrection1 ID: 14\n",
      "190827-18:44:48,517 workflow INFO:\n",
      "\t [Job finished] jobname: _n4biascorrection1 jobid: 14\n",
      "190827-18:44:48,537 workflow INFO:\n",
      "\t Executing: n4biascorrection ID: 4\n",
      "190827-18:44:48,542 workflow INFO:\n",
      "\t [Job finished] jobname: n4biascorrection jobid: 4\n",
      "190827-18:44:48,558 workflow INFO:\n",
      "\t Executing: antsRegistrationSyNQuick ID: 5\n",
      "190827-18:44:48,618 workflow INFO:\n",
      "\t Adding 2 jobs for mapnode antsRegistrationSyNQuick\n",
      "190827-18:44:48,631 workflow INFO:\n",
      "\t Executing: _antsRegistrationSyNQuick0 ID: 15\n",
      "190827-18:44:48,635 workflow INFO:\n",
      "\t [Job finished] jobname: _antsRegistrationSyNQuick0 jobid: 15\n",
      "190827-18:44:48,639 workflow INFO:\n",
      "\t Executing: _antsRegistrationSyNQuick1 ID: 16\n",
      "190827-18:44:48,643 workflow INFO:\n",
      "\t [Job finished] jobname: _antsRegistrationSyNQuick1 jobid: 16\n",
      "190827-18:44:48,657 workflow INFO:\n",
      "\t Executing: antsRegistrationSyNQuick ID: 5\n",
      "190827-18:44:48,666 workflow INFO:\n",
      "\t [Job finished] jobname: antsRegistrationSyNQuick jobid: 5\n",
      "190827-18:44:48,682 workflow INFO:\n",
      "\t Executing: cropnifti ID: 6\n",
      "190827-18:44:48,713 workflow INFO:\n",
      "\t Adding 2 jobs for mapnode cropnifti\n",
      "190827-18:44:48,732 workflow INFO:\n",
      "\t Executing: _cropnifti0 ID: 17\n",
      "190827-18:44:48,738 workflow INFO:\n",
      "\t Executing: _cropnifti1 ID: 18\n",
      "190827-18:44:48,745 workflow INFO:\n",
      "\t Executing node _cropnifti0 in dir: /Users/mdiazmel/tmp/DL/working_dir/t1w_preprocessing_dl/cropnifti/mapflow/_cropnifti0\n",
      "190827-18:44:48,754 workflow INFO:\n",
      "\t Executing node _cropnifti1 in dir: /Users/mdiazmel/tmp/DL/working_dir/t1w_preprocessing_dl/cropnifti/mapflow/_cropnifti1\n",
      "190827-18:44:49,659 workflow ERROR:\n",
      "\t ['Node _cropnifti1 failed to run on host wifi-pro-83-217.paris.inria.fr.']\n",
      "190827-18:44:49,664 workflow INFO:\n",
      "\t Saving crash info to /Users/mdiazmel/code/aramis/AD-DL/clinicadl/clinicadl/crash-20190827-184449-mdiazmel-_cropnifti1-bb8c90f3-67e6-41f5-8bd8-c115107c2af2.pklz\n",
      "190827-18:44:49,673 workflow INFO:\n",
      "\t Traceback (most recent call last):\n",
      "  File \"/Users/mdiazmel/conda/envs/clinica_dl_pre_py27/lib/python2.7/site-packages/nipype/pipeline/plugins/multiproc.py\", line 49, in run_node\n",
      "    result['result'] = node.run(updatehash=updatehash)\n",
      "  File \"/Users/mdiazmel/conda/envs/clinica_dl_pre_py27/lib/python2.7/site-packages/nipype/pipeline/engine/nodes.py\", line 394, in run\n",
      "    self._run_interface()\n",
      "  File \"/Users/mdiazmel/conda/envs/clinica_dl_pre_py27/lib/python2.7/site-packages/nipype/pipeline/engine/nodes.py\", line 504, in _run_interface\n",
      "    self._result = self._run_command(execute)\n",
      "  File \"/Users/mdiazmel/conda/envs/clinica_dl_pre_py27/lib/python2.7/site-packages/nipype/pipeline/engine/nodes.py\", line 630, in _run_command\n",
      "    result = self._interface.run()\n",
      "  File \"/Users/mdiazmel/conda/envs/clinica_dl_pre_py27/lib/python2.7/site-packages/nipype/interfaces/base.py\", line 1043, in run\n",
      "    runtime = self._run_wrapper(runtime)\n",
      "  File \"/Users/mdiazmel/conda/envs/clinica_dl_pre_py27/lib/python2.7/site-packages/nipype/interfaces/base.py\", line 1000, in _run_wrapper\n",
      "    runtime = self._run_interface(runtime)\n",
      "  File \"/Users/mdiazmel/conda/envs/clinica_dl_pre_py27/lib/python2.7/site-packages/nipype/interfaces/utility.py\", line 499, in _run_interface\n",
      "    out = function_handle(**args)\n",
      "  File \"<string>\", line 14, in crop_nifti\n",
      "  File \"/Users/mdiazmel/conda/envs/clinica_dl_pre_py27/lib/python2.7/site-packages/nilearn/image/__init__.py\", line 6, in <module>\n",
      "    from .image import high_variance_confounds, smooth_img, crop_img, \\\n",
      "  File \"/Users/mdiazmel/conda/envs/clinica_dl_pre_py27/lib/python2.7/site-packages/nilearn/image/image.py\", line 24, in <module>\n",
      "    from .._utils.param_validation import check_threshold\n",
      "  File \"/Users/mdiazmel/conda/envs/clinica_dl_pre_py27/lib/python2.7/site-packages/nilearn/_utils/param_validation.py\", line 8, in <module>\n",
      "    from sklearn.feature_selection import (SelectPercentile, f_regression,\n",
      "  File \"/Users/mdiazmel/conda/envs/clinica_dl_pre_py27/lib/python2.7/site-packages/sklearn/feature_selection/__init__.py\", line 20, in <module>\n",
      "    from .rfe import RFE\n",
      "  File \"/Users/mdiazmel/conda/envs/clinica_dl_pre_py27/lib/python2.7/site-packages/sklearn/feature_selection/rfe.py\", line 18, in <module>\n",
      "    from ..model_selection import check_cv\n",
      "  File \"/Users/mdiazmel/conda/envs/clinica_dl_pre_py27/lib/python2.7/site-packages/sklearn/model_selection/__init__.py\", line 19, in <module>\n",
      "    from ._validation import cross_val_score\n",
      "  File \"/Users/mdiazmel/conda/envs/clinica_dl_pre_py27/lib/python2.7/site-packages/sklearn/model_selection/_validation.py\", line 29, in <module>\n",
      "    from ..metrics.scorer import check_scoring, _check_multimetric_scoring\n",
      "  File \"/Users/mdiazmel/conda/envs/clinica_dl_pre_py27/lib/python2.7/site-packages/sklearn/metrics/__init__.py\", line 33, in <module>\n",
      "    from . import cluster\n",
      "  File \"/Users/mdiazmel/conda/envs/clinica_dl_pre_py27/lib/python2.7/site-packages/sklearn/metrics/cluster/__init__.py\", line 20, in <module>\n",
      "    from .unsupervised import silhouette_samples\n",
      "  File \"/Users/mdiazmel/conda/envs/clinica_dl_pre_py27/lib/python2.7/site-packages/sklearn/metrics/cluster/unsupervised.py\", line 12, in <module>\n",
      "    from ..pairwise import pairwise_distances\n",
      "  File \"/Users/mdiazmel/conda/envs/clinica_dl_pre_py27/lib/python2.7/site-packages/sklearn/metrics/pairwise.py\", line 30, in <module>\n",
      "    from .pairwise_fast import _chi2_kernel_fast, _sparse_manhattan\n",
      "ImportError: dlopen(/Users/mdiazmel/conda/envs/clinica_dl_pre_py27/lib/python2.7/site-packages/sklearn/metrics/pairwise_fast.so, 2): Library not loaded: @rpath/libopenblas.dylib\n",
      "  Referenced from: /Users/mdiazmel/conda/envs/clinica_dl_pre_py27/lib/python2.7/site-packages/sklearn/metrics/pairwise_fast.so\n",
      "  Reason: image not found\n",
      "Interface Function failed to run. \n",
      "\n",
      "190827-18:44:49,740 workflow ERROR:\n",
      "\t ['Node _cropnifti0 failed to run on host wifi-pro-83-217.paris.inria.fr.']\n",
      "190827-18:44:49,746 workflow INFO:\n",
      "\t Saving crash info to /Users/mdiazmel/code/aramis/AD-DL/clinicadl/clinicadl/crash-20190827-184449-mdiazmel-_cropnifti0-0ce8ee23-ac5b-4ca8-998c-40de6745da4b.pklz\n",
      "190827-18:44:49,751 workflow INFO:\n",
      "\t Traceback (most recent call last):\n",
      "  File \"/Users/mdiazmel/conda/envs/clinica_dl_pre_py27/lib/python2.7/site-packages/nipype/pipeline/plugins/multiproc.py\", line 49, in run_node\n",
      "    result['result'] = node.run(updatehash=updatehash)\n",
      "  File \"/Users/mdiazmel/conda/envs/clinica_dl_pre_py27/lib/python2.7/site-packages/nipype/pipeline/engine/nodes.py\", line 394, in run\n",
      "    self._run_interface()\n",
      "  File \"/Users/mdiazmel/conda/envs/clinica_dl_pre_py27/lib/python2.7/site-packages/nipype/pipeline/engine/nodes.py\", line 504, in _run_interface\n",
      "    self._result = self._run_command(execute)\n",
      "  File \"/Users/mdiazmel/conda/envs/clinica_dl_pre_py27/lib/python2.7/site-packages/nipype/pipeline/engine/nodes.py\", line 630, in _run_command\n",
      "    result = self._interface.run()\n",
      "  File \"/Users/mdiazmel/conda/envs/clinica_dl_pre_py27/lib/python2.7/site-packages/nipype/interfaces/base.py\", line 1043, in run\n",
      "    runtime = self._run_wrapper(runtime)\n",
      "  File \"/Users/mdiazmel/conda/envs/clinica_dl_pre_py27/lib/python2.7/site-packages/nipype/interfaces/base.py\", line 1000, in _run_wrapper\n",
      "    runtime = self._run_interface(runtime)\n",
      "  File \"/Users/mdiazmel/conda/envs/clinica_dl_pre_py27/lib/python2.7/site-packages/nipype/interfaces/utility.py\", line 499, in _run_interface\n",
      "    out = function_handle(**args)\n",
      "  File \"<string>\", line 14, in crop_nifti\n",
      "  File \"/Users/mdiazmel/conda/envs/clinica_dl_pre_py27/lib/python2.7/site-packages/nilearn/image/__init__.py\", line 6, in <module>\n",
      "    from .image import high_variance_confounds, smooth_img, crop_img, \\\n",
      "  File \"/Users/mdiazmel/conda/envs/clinica_dl_pre_py27/lib/python2.7/site-packages/nilearn/image/image.py\", line 24, in <module>\n",
      "    from .._utils.param_validation import check_threshold\n",
      "  File \"/Users/mdiazmel/conda/envs/clinica_dl_pre_py27/lib/python2.7/site-packages/nilearn/_utils/param_validation.py\", line 8, in <module>\n",
      "    from sklearn.feature_selection import (SelectPercentile, f_regression,\n",
      "  File \"/Users/mdiazmel/conda/envs/clinica_dl_pre_py27/lib/python2.7/site-packages/sklearn/feature_selection/__init__.py\", line 20, in <module>\n",
      "    from .rfe import RFE\n",
      "  File \"/Users/mdiazmel/conda/envs/clinica_dl_pre_py27/lib/python2.7/site-packages/sklearn/feature_selection/rfe.py\", line 18, in <module>\n",
      "    from ..model_selection import check_cv\n",
      "  File \"/Users/mdiazmel/conda/envs/clinica_dl_pre_py27/lib/python2.7/site-packages/sklearn/model_selection/__init__.py\", line 19, in <module>\n",
      "    from ._validation import cross_val_score\n",
      "  File \"/Users/mdiazmel/conda/envs/clinica_dl_pre_py27/lib/python2.7/site-packages/sklearn/model_selection/_validation.py\", line 29, in <module>\n",
      "    from ..metrics.scorer import check_scoring, _check_multimetric_scoring\n",
      "  File \"/Users/mdiazmel/conda/envs/clinica_dl_pre_py27/lib/python2.7/site-packages/sklearn/metrics/__init__.py\", line 33, in <module>\n",
      "    from . import cluster\n",
      "  File \"/Users/mdiazmel/conda/envs/clinica_dl_pre_py27/lib/python2.7/site-packages/sklearn/metrics/cluster/__init__.py\", line 20, in <module>\n",
      "    from .unsupervised import silhouette_samples\n",
      "  File \"/Users/mdiazmel/conda/envs/clinica_dl_pre_py27/lib/python2.7/site-packages/sklearn/metrics/cluster/unsupervised.py\", line 12, in <module>\n",
      "    from ..pairwise import pairwise_distances\n",
      "  File \"/Users/mdiazmel/conda/envs/clinica_dl_pre_py27/lib/python2.7/site-packages/sklearn/metrics/pairwise.py\", line 30, in <module>\n",
      "    from .pairwise_fast import _chi2_kernel_fast, _sparse_manhattan\n",
      "ImportError: dlopen(/Users/mdiazmel/conda/envs/clinica_dl_pre_py27/lib/python2.7/site-packages/sklearn/metrics/pairwise_fast.so, 2): Library not loaded: @rpath/libopenblas.dylib\n",
      "  Referenced from: /Users/mdiazmel/conda/envs/clinica_dl_pre_py27/lib/python2.7/site-packages/sklearn/metrics/pairwise_fast.so\n",
      "  Reason: image not found\n",
      "Interface Function failed to run. \n",
      "\n"
     ]
    },
    {
     "name": "stdout",
     "output_type": "stream",
     "text": [
      "190827-18:44:49,789 workflow INFO:\n",
      "\t ***********************************\n",
      "190827-18:44:49,791 workflow ERROR:\n",
      "\t could not run node: t1w_preprocessing_dl.cropnifti\n",
      "190827-18:44:49,794 workflow INFO:\n",
      "\t crashfile: /Users/mdiazmel/code/aramis/AD-DL/clinicadl/clinicadl/crash-20190827-184449-mdiazmel-_cropnifti1-bb8c90f3-67e6-41f5-8bd8-c115107c2af2.pklz\n",
      "190827-18:44:49,796 workflow ERROR:\n",
      "\t could not run node: t1w_preprocessing_dl.cropnifti\n",
      "190827-18:44:49,800 workflow INFO:\n",
      "\t crashfile: /Users/mdiazmel/code/aramis/AD-DL/clinicadl/clinicadl/crash-20190827-184449-mdiazmel-_cropnifti0-0ce8ee23-ac5b-4ca8-998c-40de6745da4b.pklz\n",
      "190827-18:44:49,804 workflow INFO:\n",
      "\t ***********************************\n"
     ]
    },
    {
     "ename": "RuntimeError",
     "evalue": "Workflow did not execute cleanly. Check log for details",
     "output_type": "error",
     "traceback": [
      "\u001b[0;31m---------------------------------------------------------------------------\u001b[0m",
      "\u001b[0;31mRuntimeError\u001b[0m                              Traceback (most recent call last)",
      "\u001b[0;32m<ipython-input-4-15bcc1e9923e>\u001b[0m in \u001b[0;36m<module>\u001b[0;34m()\u001b[0m\n\u001b[1;32m      4\u001b[0m \u001b[0;31m#wf.write_graph(\"workflow_graph.dot\")\u001b[0m\u001b[0;34m\u001b[0m\u001b[0;34m\u001b[0m\u001b[0m\n\u001b[1;32m      5\u001b[0m \u001b[0;31m#wf.write_graph(graph2use='flat')\u001b[0m\u001b[0;34m\u001b[0m\u001b[0;34m\u001b[0m\u001b[0m\n\u001b[0;32m----> 6\u001b[0;31m \u001b[0mwf\u001b[0m\u001b[0;34m.\u001b[0m\u001b[0mrun\u001b[0m\u001b[0;34m(\u001b[0m\u001b[0mplugin\u001b[0m\u001b[0;34m=\u001b[0m\u001b[0;34m'MultiProc'\u001b[0m\u001b[0;34m,\u001b[0m \u001b[0mplugin_args\u001b[0m\u001b[0;34m=\u001b[0m\u001b[0;34m{\u001b[0m\u001b[0;34m'n_procs'\u001b[0m\u001b[0;34m:\u001b[0m \u001b[0;36m2\u001b[0m\u001b[0;34m}\u001b[0m\u001b[0;34m)\u001b[0m\u001b[0;34m\u001b[0m\u001b[0m\n\u001b[0m",
      "\u001b[0;32m/Users/mdiazmel/conda/envs/clinica_dl_pre_py27/lib/python2.7/site-packages/nipype/pipeline/engine/workflows.pyc\u001b[0m in \u001b[0;36mrun\u001b[0;34m(self, plugin, plugin_args, updatehash)\u001b[0m\n\u001b[1;32m    595\u001b[0m         \u001b[0;32mif\u001b[0m \u001b[0mstr2bool\u001b[0m\u001b[0;34m(\u001b[0m\u001b[0mself\u001b[0m\u001b[0;34m.\u001b[0m\u001b[0mconfig\u001b[0m\u001b[0;34m[\u001b[0m\u001b[0;34m'execution'\u001b[0m\u001b[0;34m]\u001b[0m\u001b[0;34m[\u001b[0m\u001b[0;34m'create_report'\u001b[0m\u001b[0;34m]\u001b[0m\u001b[0;34m)\u001b[0m\u001b[0;34m:\u001b[0m\u001b[0;34m\u001b[0m\u001b[0m\n\u001b[1;32m    596\u001b[0m             \u001b[0mself\u001b[0m\u001b[0;34m.\u001b[0m\u001b[0m_write_report_info\u001b[0m\u001b[0;34m(\u001b[0m\u001b[0mself\u001b[0m\u001b[0;34m.\u001b[0m\u001b[0mbase_dir\u001b[0m\u001b[0;34m,\u001b[0m \u001b[0mself\u001b[0m\u001b[0;34m.\u001b[0m\u001b[0mname\u001b[0m\u001b[0;34m,\u001b[0m \u001b[0mexecgraph\u001b[0m\u001b[0;34m)\u001b[0m\u001b[0;34m\u001b[0m\u001b[0m\n\u001b[0;32m--> 597\u001b[0;31m         \u001b[0mrunner\u001b[0m\u001b[0;34m.\u001b[0m\u001b[0mrun\u001b[0m\u001b[0;34m(\u001b[0m\u001b[0mexecgraph\u001b[0m\u001b[0;34m,\u001b[0m \u001b[0mupdatehash\u001b[0m\u001b[0;34m=\u001b[0m\u001b[0mupdatehash\u001b[0m\u001b[0;34m,\u001b[0m \u001b[0mconfig\u001b[0m\u001b[0;34m=\u001b[0m\u001b[0mself\u001b[0m\u001b[0;34m.\u001b[0m\u001b[0mconfig\u001b[0m\u001b[0;34m)\u001b[0m\u001b[0;34m\u001b[0m\u001b[0m\n\u001b[0m\u001b[1;32m    598\u001b[0m         \u001b[0mdatestr\u001b[0m \u001b[0;34m=\u001b[0m \u001b[0mdatetime\u001b[0m\u001b[0;34m.\u001b[0m\u001b[0mutcnow\u001b[0m\u001b[0;34m(\u001b[0m\u001b[0;34m)\u001b[0m\u001b[0;34m.\u001b[0m\u001b[0mstrftime\u001b[0m\u001b[0;34m(\u001b[0m\u001b[0;34m'%Y%m%dT%H%M%S'\u001b[0m\u001b[0;34m)\u001b[0m\u001b[0;34m\u001b[0m\u001b[0m\n\u001b[1;32m    599\u001b[0m         \u001b[0;32mif\u001b[0m \u001b[0mstr2bool\u001b[0m\u001b[0;34m(\u001b[0m\u001b[0mself\u001b[0m\u001b[0;34m.\u001b[0m\u001b[0mconfig\u001b[0m\u001b[0;34m[\u001b[0m\u001b[0;34m'execution'\u001b[0m\u001b[0;34m]\u001b[0m\u001b[0;34m[\u001b[0m\u001b[0;34m'write_provenance'\u001b[0m\u001b[0;34m]\u001b[0m\u001b[0;34m)\u001b[0m\u001b[0;34m:\u001b[0m\u001b[0;34m\u001b[0m\u001b[0m\n",
      "\u001b[0;32m/Users/mdiazmel/conda/envs/clinica_dl_pre_py27/lib/python2.7/site-packages/nipype/pipeline/plugins/base.pyc\u001b[0m in \u001b[0;36mrun\u001b[0;34m(self, graph, config, updatehash)\u001b[0m\n\u001b[1;32m    272\u001b[0m \u001b[0;34m\u001b[0m\u001b[0m\n\u001b[1;32m    273\u001b[0m         \u001b[0mself\u001b[0m\u001b[0;34m.\u001b[0m\u001b[0m_remove_node_dirs\u001b[0m\u001b[0;34m(\u001b[0m\u001b[0;34m)\u001b[0m\u001b[0;34m\u001b[0m\u001b[0m\n\u001b[0;32m--> 274\u001b[0;31m         \u001b[0mreport_nodes_not_run\u001b[0m\u001b[0;34m(\u001b[0m\u001b[0mnotrun\u001b[0m\u001b[0;34m)\u001b[0m\u001b[0;34m\u001b[0m\u001b[0m\n\u001b[0m\u001b[1;32m    275\u001b[0m \u001b[0;34m\u001b[0m\u001b[0m\n\u001b[1;32m    276\u001b[0m \u001b[0;34m\u001b[0m\u001b[0m\n",
      "\u001b[0;32m/Users/mdiazmel/conda/envs/clinica_dl_pre_py27/lib/python2.7/site-packages/nipype/pipeline/plugins/base.pyc\u001b[0m in \u001b[0;36mreport_nodes_not_run\u001b[0;34m(notrun)\u001b[0m\n\u001b[1;32m     93\u001b[0m                 \u001b[0mlogger\u001b[0m\u001b[0;34m.\u001b[0m\u001b[0mdebug\u001b[0m\u001b[0;34m(\u001b[0m\u001b[0msubnode\u001b[0m\u001b[0;34m.\u001b[0m\u001b[0m_id\u001b[0m\u001b[0;34m)\u001b[0m\u001b[0;34m\u001b[0m\u001b[0m\n\u001b[1;32m     94\u001b[0m         \u001b[0mlogger\u001b[0m\u001b[0;34m.\u001b[0m\u001b[0minfo\u001b[0m\u001b[0;34m(\u001b[0m\u001b[0;34m\"***********************************\"\u001b[0m\u001b[0;34m)\u001b[0m\u001b[0;34m\u001b[0m\u001b[0m\n\u001b[0;32m---> 95\u001b[0;31m         raise RuntimeError(('Workflow did not execute cleanly. '\n\u001b[0m\u001b[1;32m     96\u001b[0m                             'Check log for details'))\n\u001b[1;32m     97\u001b[0m \u001b[0;34m\u001b[0m\u001b[0m\n",
      "\u001b[0;31mRuntimeError\u001b[0m: Workflow did not execute cleanly. Check log for details"
     ]
    }
   ],
   "source": [
    "from preprocessing.T1_preprocessing import preprocessing_t1w\n",
    "\n",
    "wf = preprocessing_t1w(bids_directory, caps_directory, tsv, ref_template, working_directory=working_dir)\n",
    "#wf.write_graph(\"workflow_graph.dot\")\n",
    "#wf.write_graph(graph2use='flat')\n",
    "wf.run(plugin='MultiProc', plugin_args={'n_procs': 2})"
   ]
  },
  {
   "cell_type": "markdown",
   "metadata": {},
   "source": [
    "### 2. Preprocessing, second part"
   ]
  },
  {
   "cell_type": "markdown",
   "metadata": {},
   "source": [
    "Run the second part of preprocessing (inspired from `run_postprocessing_adni.py`)."
   ]
  },
  {
   "cell_type": "code",
   "execution_count": null,
   "metadata": {},
   "outputs": [],
   "source": [
    "from T1_postprocessing import postprocessing_t1w\n",
    "\n",
    "patch_size = 50\n",
    "stride_size = 50\n",
    "\n",
    "# for rgb tf learning\n",
    "wf2 = postprocessing_t1w(caps_directory, tsv, patch_size, stride_size, working_directory=working_dir, extract_method='slice', slice_mode='rgb')\n",
    "wf2.run(plugin='MultiProc', plugin_args={'n_procs': 4})"
   ]
  },
  {
   "cell_type": "code",
   "execution_count": null,
   "metadata": {},
   "outputs": [],
   "source": [
    "## for patch\n",
    "wf3 = postprocessing_t1w(caps_directory, tsv, patch_size, stride_size, working_directory=working_dir, extract_method='patch')\n",
    "#wf3.write_graph(\"workflow_graph.dot\")\n",
    "#wf3.write_graph(graph2use='flat')\n",
    "wf3.run(plugin='MultiProc', plugin_args={'n_procs': 4})"
   ]
  },
  {
   "cell_type": "code",
   "execution_count": null,
   "metadata": {},
   "outputs": [],
   "source": []
  }
 ],
 "metadata": {
  "kernelspec": {
   "display_name": "Python 3",
   "language": "python",
   "name": "python3"
  },
  "language_info": {
   "codemirror_mode": {
    "name": "ipython",
    "version": 3
   },
   "file_extension": ".py",
   "mimetype": "text/x-python",
   "name": "python",
   "nbconvert_exporter": "python",
   "pygments_lexer": "ipython3",
   "version": "3.6.7"
  }
 },
 "nbformat": 4,
 "nbformat_minor": 2
}
